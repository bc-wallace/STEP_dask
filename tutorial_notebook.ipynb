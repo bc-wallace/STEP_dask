{
 "cells": [
  {
   "cell_type": "markdown",
   "id": "9093e229",
   "metadata": {},
   "source": [
    "# STEP_dask Tutorial Notebook"
   ]
  },
  {
   "cell_type": "markdown",
   "id": "b701bcc1",
   "metadata": {},
   "source": [
    "### Intro \n",
    "\n",
    "This package is a reimplementation of the Storm Tracking and Evaluation Protocol (STEP) package originally developed by Alex Rittler. The original STEP can be found here (https://github.com/RDCEP/STEP).\n",
    "\n",
    "The goal for STEP_dask is to increase the efficiency of STEP so that large datasets on the order of several million cells may be analyzed."
   ]
  },
  {
   "cell_type": "markdown",
   "id": "db37e7d6",
   "metadata": {},
   "source": [
    "### Overview\n",
    "\n",
    "Several key changes have been made to the tracking function that increases single-threaded and multi-worker performance. We'll first go over how the original STEP handled this, and then discuss what has been changed.\n",
    "\n",
    "### Original Tracking Methodology\n",
    "\n",
    "At its core, STEP relied on two for loops to do the brunt of the work. The outer for loop went through every uniquely labeled storm in the current timestep. The second for loop, nested within the first, went through every uniquely labeled storm in the previous timestep.\n",
    "\n",
    "Within the nested loop, the following steps would be taken to determine whether the two storms matched:\n",
    "\n",
    "1. Check to see if the previous storm is larger than the next best match\n",
    "2. If so, calculate the morphological similarity of the two storms \n",
    "3. If the similarity passes a pre-defined threshold, two calculations are performed to determine if the storm is a match candidate:\n",
    "        a. Calculate the displacement between the two storm centroids\n",
    "        b. Calculate the displacement vector of the previous storm and the current storm\n",
    "4. If either criteria meets some threshold, the storm is considered the best match and moves on to the next item in the loop\n",
    "\n",
    "### Major Changes\n",
    "\n",
    "\n",
    "1. Reworking the similarity index\n",
    "\n",
    "        Profiling STEP reveals that a majority of the computational time is spent calculating the morphological similarity. This is handled by the function \"similarity\" found here: https://github.com/RDCEP/STEP/blob/master/step/tracking.py.\n",
    "\n",
    "        Within this function, a 2D array is created with each dimension having a size equal to the combined total cell count of the two storms being compared. So, a comparison of two storms of size 50 and 100 would yield a 150x150 array. This can easily be handled within numpy, and any calculations done on this array are very quick.\n",
    "\n",
    "        However, when storm sizes increase, such as in cases where the grid spacing is very fine or the considered region is large, this calculation uses a lot of memory and becomes computationally expensive. For instance, two storms with sizes of 6,000 and 7,000 result in an array with dimensions of 13,000 x 13,000. This computation may take a few seconds to run in numpy, but this can really add up in cases like this where nested for loops are involved. \n",
    "        \n",
    "        To get around this, the similarity function is reworked to chunk up the array and only load each chunk into memory when performing the computation. This speeds up single-threaded performance and drastically reduces the amount of memory needed. \n",
    "        \n",
    "2. Changing the order of when calculations are called\n",
    "\n",
    "        In the modified function, the order of the calculations are altered to reduce the amount of times the similairity function needs to be called.\n",
    "        \n",
    "        The order now is:\n",
    "        \n",
    "        1. Calculate the centroid displacement & displacement angle between the two storms (this is fairly quick and can be done entirely in memory using numpy)\n",
    "        2. If either passes the criteria, calculate the similarity of the two storms\n",
    "        3. The selected match is then identified as the largest storm that passes the similarity threshold\n",
    "        \n",
    "        Both this and the change above resulted in computation time less than half that of the original!\n",
    "        \n",
    "3. Turn the for loops into dask delayed objects\n",
    "\n",
    "        The most significant change takes advantage of dask to simultaneously calculate all possible outcomes from the for loop at once without having to wait for the prior result to be finished.\n",
    "        \n",
    "        These jobs are then called in and computed in batches of 2,500 to reduce the amount of tasks that are sent to the dask scheduler. The result is a near-linear reduction in the amount of time it takes to run STEP as computational power is increased.\n",
    "        "
   ]
  },
  {
   "cell_type": "markdown",
   "id": "bea8fb39",
   "metadata": {},
   "source": [
    "## Sample notebook workflow\n",
    "\n",
    "Below is a sample of how to setup and run STEP_dask"
   ]
  },
  {
   "cell_type": "code",
   "execution_count": 2,
   "id": "216b5bf8",
   "metadata": {},
   "outputs": [
    {
     "name": "stderr",
     "output_type": "stream",
     "text": [
      "/tmp/ipykernel_57091/479144983.py:20: DeprecationWarning: Please use `center_of_mass` from the `scipy.ndimage` namespace, the `scipy.ndimage.measurements` namespace is deprecated.\n",
      "  from scipy.ndimage.measurements import center_of_mass\n"
     ]
    }
   ],
   "source": [
    "import identification as idf\n",
    "import tracking as tr\n",
    "import dask_tracking\n",
    "\n",
    "import numpy as np\n",
    "import pandas as pd\n",
    "import matplotlib as mpl\n",
    "import matplotlib.pyplot as plt\n",
    "import matplotlib.colors as colors\n",
    "import sys\n",
    "import xarray as xr\n",
    "from netCDF4 import Dataset\n",
    "from datetime import datetime, timedelta, date\n",
    "\n",
    "from skimage import draw\n",
    "import copy\n",
    "\n",
    "from math import sqrt\n",
    "import numpy as np\n",
    "from scipy.ndimage.measurements import center_of_mass\n",
    "from scipy.spatial.distance import pdist, squareform\n",
    "from skimage.segmentation import relabel_sequential\n",
    "\n",
    "from flox.xarray import xarray_reduce\n",
    "\n",
    "import dask.array as da\n",
    "import dask\n",
    "from dask import delayed\n",
    "\n",
    "import scipy"
   ]
  },
  {
   "cell_type": "markdown",
   "id": "36faac71",
   "metadata": {},
   "source": [
    "## Create a Dask client\n",
    "\n",
    "Here, we're calling 10 workers with 4 threads each.\n",
    "\n",
    "It's important to stress that this current setup is being run on a local client. This means that all workers roughly share the same resource pool. For optimized performance, managing workers using dask_jobqueue on something like a PBS cluster is recommended!"
   ]
  },
  {
   "cell_type": "code",
   "execution_count": 2,
   "id": "6e3a017e",
   "metadata": {
    "scrolled": true
   },
   "outputs": [
    {
     "name": "stdout",
     "output_type": "stream",
     "text": [
      "https://jupyter.alcf.anl.gov/theta/user/bwallace/proxy/8787/status\n"
     ]
    }
   ],
   "source": [
    "from dask.distributed import Client\n",
    "\n",
    "dask.config.set({'distributed.dashboard.link':'https://jupyter.alcf.anl.gov/theta/user/{USER}/proxy/{port}/status'})\n",
    "\n",
    "client = Client(n_workers=10,threads_per_worker=4)\n",
    "\n",
    "print(client.dashboard_link)\n",
    "\n",
    "from distributed import get_client\n",
    "worker_client=get_client()"
   ]
  },
  {
   "cell_type": "markdown",
   "id": "a9c6f9e2",
   "metadata": {},
   "source": [
    "Next, we'll load in our sample precipitation dataset. This is the same dataset used in the original STEP tutorial.\n",
    "\n",
    "We'll also specify a few of the constants that our function will need.\n",
    "\n",
    "For a description of what each constant does, we'll copy the definition from the original STEP:\n",
    "* tau: the threshold at which a storm is considered similar enough to another to possibly be linked through\n",
    "time, given as a float.\n",
    "* phi: the constant to be used in computing similarity between storms, given as a float.\n",
    "* km: the number of grid cells equivalent to 120km in the maps, given as a float."
   ]
  },
  {
   "cell_type": "code",
   "execution_count": 2,
   "id": "4aa777a5",
   "metadata": {},
   "outputs": [
    {
     "name": "stdout",
     "output_type": "stream",
     "text": [
      "CPU times: user 1.47 ms, sys: 13.8 ms, total: 15.3 ms\n",
      "Wall time: 10.1 ms\n"
     ]
    }
   ],
   "source": [
    "%%time\n",
    "\n",
    "in_precip=np.load('data/precip_1996.npy', allow_pickle=True)\n",
    "\n",
    "THRESHOLD=0.6\n",
    "\n",
    "tau=0.7\n",
    "phi=0.003\n",
    "km=18.6\n",
    "test=False"
   ]
  },
  {
   "cell_type": "markdown",
   "id": "58c2c850",
   "metadata": {},
   "source": [
    "Next, we label our precip dataset. This cell takes advantage of the original labeling function from STEP and just wraps it with a dask.delayed call. This means that each loop within the original for loop is a different job that can be offloaded onto a worker. This helps to greatly speed up the time it takes to label!"
   ]
  },
  {
   "cell_type": "code",
   "execution_count": 4,
   "id": "9213aa96",
   "metadata": {},
   "outputs": [
    {
     "name": "stderr",
     "output_type": "stream",
     "text": [
      "/home/bwallace/.conda/envs/geo_env/lib/python3.11/site-packages/distributed/worker.py:2988: UserWarning: Large object of size 1.18 MiB detected in task graph: \n",
      "  (array([[0.       , 0.       , 0.       , ..., 0.  ...  0., 0., 0.]]))\n",
      "Consider scattering large objects ahead of time\n",
      "with client.scatter to reduce scheduler burden and \n",
      "keep data on workers\n",
      "\n",
      "    future = client.submit(func, big_data)    # bad\n",
      "\n",
      "    big_future = client.scatter(big_data)     # good\n",
      "    future = client.submit(func, big_future)  # good\n",
      "  warnings.warn(\n"
     ]
    },
    {
     "name": "stdout",
     "output_type": "stream",
     "text": [
      "CPU times: user 452 ms, sys: 486 ms, total: 938 ms\n",
      "Wall time: 3.43 s\n"
     ]
    }
   ],
   "source": [
    "%%time\n",
    "vals=[]\n",
    "\n",
    "struct=np.zeros((16,16))\n",
    "rr,cc=draw.disk((7.5,7.5),radius=8.5)\n",
    "struct[rr,cc]=1\n",
    "\n",
    "for time_slice in in_precip:\n",
    "    vals.append(delayed(dask_tracking.dask_label)(time_slice,THRESHOLD,struct))\n",
    "\n",
    "output=dask.compute(vals)[0]\n",
    "\n",
    "output=np.array(output)\n",
    "labeled_maps=output[:,0,0].copy()\n",
    "result_data=output[:,1,0].copy()\n",
    "precip_data=output[:,2,0].copy()"
   ]
  },
  {
   "cell_type": "markdown",
   "id": "8c68156a",
   "metadata": {},
   "source": [
    "Finally, wel'll call our tracking function. The three gridded inputs all come from the labeling function above, while tau, phi, and km are our defined constants, and worker_client is our Dask client."
   ]
  },
  {
   "cell_type": "code",
   "execution_count": 5,
   "id": "77256e4d",
   "metadata": {
    "scrolled": false
   },
   "outputs": [
    {
     "name": "stdout",
     "output_type": "stream",
     "text": [
      "1.0  matched 2.0  in time slice 2\n",
      "2.0  matched 1.0  in time slice 2\n",
      "3.0  matched 3.0  in time slice 2\n",
      "4.0  matched 4.0  in time slice 2\n",
      "5.0  matched 5.0  in time slice 2\n",
      "6.0  matched 0  in time slice 2\n",
      "7.0  matched 7.0  in time slice 2\n",
      "8.0  matched 6.0  in time slice 2\n",
      "9.0  matched 7.0  in time slice 2\n",
      "10.0  matched 11.0  in time slice 2\n",
      "11.0  matched 2.0  in time slice 2\n",
      "12.0  matched 1.0  in time slice 2\n",
      "13.0  matched 4.0  in time slice 2\n",
      "14.0  matched 4.0  in time slice 2\n",
      "15.0  matched 18.0  in time slice 2\n",
      "16.0  matched 18.0  in time slice 2\n",
      "17.0  matched 5.0  in time slice 2\n",
      "18.0  matched 18.0  in time slice 2\n",
      "19.0  matched 17.0  in time slice 2\n",
      "20.0  matched 17.0  in time slice 2\n",
      "21.0  matched 18.0  in time slice 2\n",
      "22.0  matched 22.0  in time slice 2\n",
      "23.0  matched 23.0  in time slice 2\n",
      "24.0  matched 5.0  in time slice 2\n"
     ]
    },
    {
     "name": "stderr",
     "output_type": "stream",
     "text": [
      "/home/bwallace/.conda/envs/geo_env/lib/python3.11/site-packages/scipy/ndimage/_measurements.py:1534: RuntimeWarning: invalid value encountered in scalar divide\n",
      "  results = [sum(input * grids[dir].astype(float), labels, index) / normalizer\n"
     ]
    },
    {
     "name": "stdout",
     "output_type": "stream",
     "text": [
      "1.0  matched 2.0  in time slice 3\n",
      "2.0  matched 1.0  in time slice 3\n",
      "3.0  matched 3.0  in time slice 3\n",
      "4.0  matched 4.0  in time slice 3\n",
      "5.0  matched 5.0  in time slice 3\n",
      "6.0  matched 25.0  in time slice 3\n",
      "7.0  matched 7.0  in time slice 3\n",
      "8.0  matched 11.0  in time slice 3\n",
      "9.0  matched 0  in time slice 3\n",
      "10.0  matched 4.0  in time slice 3\n",
      "11.0  matched 4.0  in time slice 3\n",
      "12.0  matched 4.0  in time slice 3\n",
      "13.0  matched 4.0  in time slice 3\n",
      "14.0  matched 18.0  in time slice 3\n",
      "15.0  matched 18.0  in time slice 3\n",
      "16.0  matched 0  in time slice 3\n",
      "17.0  matched 0  in time slice 3\n",
      "18.0  matched 18.0  in time slice 3\n",
      "19.0  matched 18.0  in time slice 3\n",
      "20.0  matched 22.0  in time slice 3\n",
      "21.0  matched 23.0  in time slice 3\n",
      "22.0  matched 5.0  in time slice 3\n",
      "23.0  matched 0  in time slice 3\n",
      "1.0  matched 7.0  in time slice 4\n",
      "2.0  matched 3.0  in time slice 4\n",
      "3.0  matched 4.0  in time slice 4\n",
      "4.0  matched 1.0  in time slice 4\n",
      "5.0  matched 5.0  in time slice 4\n",
      "6.0  matched 25.0  in time slice 4\n",
      "7.0  matched 11.0  in time slice 4\n",
      "8.0  matched 7.0  in time slice 4\n",
      "9.0  matched 11.0  in time slice 4\n",
      "10.0  matched 11.0  in time slice 4\n",
      "11.0  matched 11.0  in time slice 4\n",
      "12.0  matched 11.0  in time slice 4\n",
      "13.0  matched 2.0  in time slice 4\n",
      "14.0  matched 26.0  in time slice 4\n",
      "15.0  matched 3.0  in time slice 4\n",
      "16.0  matched 4.0  in time slice 4\n",
      "17.0  matched 18.0  in time slice 4\n",
      "18.0  matched 18.0  in time slice 4\n",
      "19.0  matched 27.0  in time slice 4\n",
      "20.0  matched 28.0  in time slice 4\n",
      "21.0  matched 0  in time slice 4\n",
      "22.0  matched 0  in time slice 4\n",
      "23.0  matched 18.0  in time slice 4\n",
      "24.0  matched 22.0  in time slice 4\n",
      "25.0  matched 5.0  in time slice 4\n",
      "26.0  matched 5.0  in time slice 4\n",
      "27.0  matched 29.0  in time slice 4\n"
     ]
    },
    {
     "name": "stderr",
     "output_type": "stream",
     "text": [
      "/home/bwallace/scripts/STEP/step/tracking.py:262: RuntimeWarning: invalid value encountered in scalar divide\n",
      "  return np.arccos(np.dot(vec_one, vec_two) / (np.linalg.norm(vec_one) * np.linalg.norm(vec_two)))\n"
     ]
    },
    {
     "name": "stdout",
     "output_type": "stream",
     "text": [
      "1.0  matched 3.0  in time slice 5\n",
      "2.0  matched 18.0  in time slice 5\n",
      "3.0  matched 4.0  in time slice 5\n",
      "4.0  matched 1.0  in time slice 5\n",
      "5.0  matched 0  in time slice 5\n",
      "6.0  matched 7.0  in time slice 5\n",
      "7.0  matched 25.0  in time slice 5\n",
      "8.0  matched 25.0  in time slice 5\n",
      "9.0  matched 7.0  in time slice 5\n",
      "10.0  matched 26.0  in time slice 5\n",
      "11.0  matched 3.0  in time slice 5\n",
      "12.0  matched 4.0  in time slice 5\n",
      "13.0  matched 18.0  in time slice 5\n",
      "14.0  matched 18.0  in time slice 5\n",
      "15.0  matched 18.0  in time slice 5\n",
      "16.0  matched 18.0  in time slice 5\n",
      "17.0  matched 18.0  in time slice 5\n",
      "18.0  matched 1.0  in time slice 5\n",
      "19.0  matched 0  in time slice 5\n",
      "20.0  matched 5.0  in time slice 5\n",
      "21.0  matched 5.0  in time slice 5\n",
      "22.0  matched 22.0  in time slice 5\n",
      "23.0  matched 5.0  in time slice 5\n",
      "24.0  matched 5.0  in time slice 5\n",
      "CPU times: user 29.6 s, sys: 3.61 s, total: 33.2 s\n",
      "Wall time: 1min 3s\n"
     ]
    }
   ],
   "source": [
    "%%time\n",
    "result=dask_tracking.track(\n",
    "    precip_data,\n",
    "    labeled_maps,\n",
    "    result_data,\n",
    "    tau,\n",
    "    phi,\n",
    "    km,\n",
    "    worker_client\n",
    ")"
   ]
  },
  {
   "cell_type": "markdown",
   "id": "1f3fce9c",
   "metadata": {},
   "source": [
    "## Results\n",
    "\n",
    "We can see that this computation took about 1 minute to run on 10 workers with 4 threads each. This is already a significant improvement over the originaly function that took on the order of ~20 minutes to analyze the same dataset.\n"
   ]
  },
  {
   "cell_type": "markdown",
   "id": "ccac8d5e",
   "metadata": {},
   "source": [
    "## Scaling\n",
    "Below are some sample timings run on NCAR's Casper HPC environment to demonstrate how well this function scales."
   ]
  },
  {
   "cell_type": "code",
   "execution_count": 12,
   "id": "43549319",
   "metadata": {},
   "outputs": [],
   "source": [
    "workers=[1,2,5,10,20,40]\n",
    "time_to_run=[499,\n",
    "             263,\n",
    "             139,\n",
    "             65,\n",
    "             35.7,\n",
    "             24.5,\n",
    "            ]"
   ]
  },
  {
   "cell_type": "code",
   "execution_count": 13,
   "id": "6906803c",
   "metadata": {},
   "outputs": [
    {
     "data": {
      "image/png": "[encoded data removed]",
      "text/plain": [
       "<Figure size 800x800 with 1 Axes>"
      ]
     },
     "metadata": {},
     "output_type": "display_data"
    }
   ],
   "source": [
    "fit=plt.figure(figsize=(8,8))\n",
    "\n",
    "plt.plot(workers,time_to_run)\n",
    "\n",
    "plt.ylabel('Time to Run (seconds)',fontsize=15)\n",
    "plt.xlabel('Number of Workers',fontsize=15)\n",
    "\n",
    "plt.grid()\n",
    "plt.show()\n",
    "plt.close()"
   ]
  },
  {
   "cell_type": "markdown",
   "id": "3ed5d7dd",
   "metadata": {},
   "source": [
    "## What about larger datasets?\n",
    "\n",
    "Larger datasets can easily be ingested into this function! The main control on computation time is the number of uniquely labeled storms that are being compared. So, for instance, a 1000x1000 grid with only 10 uniquely labeled storms would be much quicker to run than a 500x500 grid with 100 uniquely labeled storms. \n",
    "\n",
    "This relates back to the struct,rr,cc variables defined during the labeling step above. Testing is needed to determine optimal values for different grids."
   ]
  },
  {
   "cell_type": "markdown",
   "id": "fc6c46e2",
   "metadata": {},
   "source": [
    "### Output from tracking on a 24 (time) x 899 (south_north) x 1399 (east_west) grid\n",
    "\n",
    "This took about 4 minutes to run on 20 workers with 1 thread each."
   ]
  },
  {
   "cell_type": "markdown",
   "id": "354c8abf",
   "metadata": {},
   "source": [
    "<img src=\"img/tracking.gif\" alt=\"Tracked Storms\"/>"
   ]
  },
  {
   "cell_type": "markdown",
   "id": "7deb061e",
   "metadata": {},
   "source": [
    "## Important Note\n",
    "\n",
    "The above figure highlights the need for effective testing before running this algorithm. The labeling is inconsistent and storms that are separate from each other get merged and broken apart, resulting in unrealistic labeling. A lot of testing on optimal parameters is needed before tracking storms. In particular, the similarity constant (tau) and the structure of the array used within the labeling function can significantly impact the result."
   ]
  },
  {
   "cell_type": "markdown",
   "id": "1cd24431",
   "metadata": {},
   "source": [
    "## Conclusions\n",
    "\n",
    "Overall, the changes presented here drastically reduce computation time and the amount of memory needed to perform those computations. This function is now much more scalable, and if time is not much of an issue, can even be run on a local computer with limited cores and memory!"
   ]
  },
  {
   "cell_type": "code",
   "execution_count": null,
   "id": "a66d50c9",
   "metadata": {},
   "outputs": [],
   "source": []
  }
 ],
 "metadata": {
  "kernelspec": {
   "display_name": "jhub_geoenv",
   "language": "python",
   "name": "jhub_geoenv"
  },
  "language_info": {
   "codemirror_mode": {
    "name": "ipython",
    "version": 3
   },
   "file_extension": ".py",
   "mimetype": "text/x-python",
   "name": "python",
   "nbconvert_exporter": "python",
   "pygments_lexer": "ipython3",
   "version": "3.11.0"
  }
 },
 "nbformat": 4,
 "nbformat_minor": 5
}
